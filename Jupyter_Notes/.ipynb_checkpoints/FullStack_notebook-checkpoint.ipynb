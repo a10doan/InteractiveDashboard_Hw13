{
 "cells": [
  {
   "cell_type": "code",
   "execution_count": 1,
   "metadata": {
    "collapsed": true
   },
   "outputs": [],
   "source": [
    "import numpy as np\n",
    "import os\n",
    "import pandas as pd\n",
    "import matplotlib.pyplot as plt\n",
    "import seaborn as sns\n",
    "#pd.set_option('display.height', 500)\n",
    "#pd.set_option('display.max_rows', 500)"
   ]
  },
  {
   "cell_type": "code",
   "execution_count": 2,
   "metadata": {
    "collapsed": true
   },
   "outputs": [],
   "source": [
    "from datetime import datetime, date\n",
    "# Imports for 'inspect/explore/reflect' columns\n",
    "from sqlalchemy.ext.automap import automap_base\n",
    "from sqlalchemy.orm import Session\n",
    "from sqlalchemy import create_engine, inspect\n",
    "# Import 'func' and 'desc' function, in order to execute count and descend\n",
    "from sqlalchemy import func, or_, and_\n",
    "from sqlalchemy import desc\n",
    "\n",
    "engine = create_engine(\"sqlite:///DataSets/belly_button_biodiversity.sqlite\")\n",
    "session = Session(engine)"
   ]
  },
  {
   "cell_type": "code",
   "execution_count": 124,
   "metadata": {},
   "outputs": [
    {
     "data": {
      "text/plain": [
       "pandas.core.frame.DataFrame"
      ]
     },
     "execution_count": 124,
     "metadata": {},
     "output_type": "execute_result"
    }
   ],
   "source": [
    "_csvpath = os.path.join('DataSets', 'belly_button_biodiversity_samples.csv')\n",
    "_data = pd.read_csv(_csvpath)\n",
    "type(_data)"
   ]
  },
  {
   "cell_type": "code",
   "execution_count": 122,
   "metadata": {},
   "outputs": [
    {
     "data": {
      "text/plain": [
       "Index(['otu_id', 'BB_940', 'BB_941', 'BB_943', 'BB_944', 'BB_945', 'BB_946',\n",
       "       'BB_947', 'BB_948', 'BB_949',\n",
       "       ...\n",
       "       'BB_1562', 'BB_1563', 'BB_1564', 'BB_1572', 'BB_1573', 'BB_1574',\n",
       "       'BB_1576', 'BB_1577', 'BB_1581', 'BB_1601'],\n",
       "      dtype='object', length=154)"
      ]
     },
     "execution_count": 122,
     "metadata": {},
     "output_type": "execute_result"
    }
   ],
   "source": [
    "_data.columns"
   ]
  },
  {
   "cell_type": "code",
   "execution_count": 5,
   "metadata": {
    "collapsed": true
   },
   "outputs": [],
   "source": [
    "column_names = list(_data.columns)\n",
    "del column_names[0]"
   ]
  },
  {
   "cell_type": "code",
   "execution_count": 6,
   "metadata": {
    "collapsed": true
   },
   "outputs": [],
   "source": [
    "_datadf = pd.DataFrame(_data)\n",
    "#_datadf.head()"
   ]
  },
  {
   "cell_type": "markdown",
   "metadata": {},
   "source": [
    "#### Testing to_dict method for key, value per row"
   ]
  },
  {
   "cell_type": "code",
   "execution_count": 7,
   "metadata": {
    "collapsed": true
   },
   "outputs": [],
   "source": [
    "blahblah = _datadf.to_dict(orient = 'records')\n",
    "#print(blahblah[0])"
   ]
  },
  {
   "cell_type": "markdown",
   "metadata": {},
   "source": [
    "#### Using reflection to pull column keys"
   ]
  },
  {
   "cell_type": "code",
   "execution_count": 8,
   "metadata": {},
   "outputs": [
    {
     "data": {
      "text/plain": [
       "['otu', 'samples', 'samples_metadata']"
      ]
     },
     "execution_count": 8,
     "metadata": {},
     "output_type": "execute_result"
    }
   ],
   "source": [
    "Base = automap_base()\n",
    "Base.prepare(engine, reflect=True)\n",
    "Base.classes.keys()"
   ]
  },
  {
   "cell_type": "code",
   "execution_count": 9,
   "metadata": {
    "collapsed": true
   },
   "outputs": [],
   "source": [
    "Samples = Base.classes.samples"
   ]
  },
  {
   "cell_type": "code",
   "execution_count": 10,
   "metadata": {
    "collapsed": true
   },
   "outputs": [],
   "source": [
    "samples = Samples.__table__.columns.keys()"
   ]
  },
  {
   "cell_type": "code",
   "execution_count": 11,
   "metadata": {},
   "outputs": [
    {
     "name": "stdout",
     "output_type": "stream",
     "text": [
      "['BB_940', 'BB_941', 'BB_943', 'BB_944', 'BB_945', 'BB_946', 'BB_947', 'BB_948', 'BB_949', 'BB_950', 'BB_952', 'BB_953', 'BB_954', 'BB_955', 'BB_956', 'BB_958', 'BB_959', 'BB_960', 'BB_961', 'BB_962', 'BB_963', 'BB_964', 'BB_966', 'BB_967', 'BB_968', 'BB_969', 'BB_970', 'BB_971', 'BB_972', 'BB_973', 'BB_974', 'BB_975', 'BB_978', 'BB_1233', 'BB_1234', 'BB_1235', 'BB_1236', 'BB_1237', 'BB_1238', 'BB_1242', 'BB_1243', 'BB_1246', 'BB_1253', 'BB_1254', 'BB_1258', 'BB_1259', 'BB_1260', 'BB_1264', 'BB_1265', 'BB_1273', 'BB_1275', 'BB_1276', 'BB_1277', 'BB_1278', 'BB_1279', 'BB_1280', 'BB_1281', 'BB_1282', 'BB_1283', 'BB_1284', 'BB_1285', 'BB_1286', 'BB_1287', 'BB_1288', 'BB_1289', 'BB_1290', 'BB_1291', 'BB_1292', 'BB_1293', 'BB_1294', 'BB_1295', 'BB_1296', 'BB_1297', 'BB_1298', 'BB_1308', 'BB_1309', 'BB_1310', 'BB_1374', 'BB_1415', 'BB_1439', 'BB_1441', 'BB_1443', 'BB_1486', 'BB_1487', 'BB_1489', 'BB_1490', 'BB_1491', 'BB_1494', 'BB_1495', 'BB_1497', 'BB_1499', 'BB_1500', 'BB_1501', 'BB_1502', 'BB_1503', 'BB_1504', 'BB_1505', 'BB_1506', 'BB_1507', 'BB_1508', 'BB_1510', 'BB_1511', 'BB_1512', 'BB_1513', 'BB_1514', 'BB_1515', 'BB_1516', 'BB_1517', 'BB_1518', 'BB_1519', 'BB_1521', 'BB_1524', 'BB_1526', 'BB_1527', 'BB_1530', 'BB_1531', 'BB_1532', 'BB_1533', 'BB_1534', 'BB_1535', 'BB_1536', 'BB_1537', 'BB_1539', 'BB_1540', 'BB_1541', 'BB_1542', 'BB_1543', 'BB_1544', 'BB_1545', 'BB_1546', 'BB_1547', 'BB_1548', 'BB_1549', 'BB_1550', 'BB_1551', 'BB_1552', 'BB_1553', 'BB_1554', 'BB_1555', 'BB_1556', 'BB_1557', 'BB_1558', 'BB_1561', 'BB_1562', 'BB_1563', 'BB_1564', 'BB_1572', 'BB_1573', 'BB_1574', 'BB_1576', 'BB_1577', 'BB_1581', 'BB_1601']\n"
     ]
    }
   ],
   "source": [
    "del samples[0]\n",
    "print(samples)"
   ]
  },
  {
   "cell_type": "markdown",
   "metadata": {},
   "source": [
    "### @app.route('/names')"
   ]
  },
  {
   "cell_type": "code",
   "execution_count": 12,
   "metadata": {},
   "outputs": [
    {
     "data": {
      "text/plain": [
       "['otu_id', 'lowest_taxonomic_unit_found']"
      ]
     },
     "execution_count": 12,
     "metadata": {},
     "output_type": "execute_result"
    }
   ],
   "source": [
    "Samples_otu = Base.classes.otu\n",
    "otu_samples = Samples_otu.__table__.columns.keys()\n",
    "otu_samples"
   ]
  },
  {
   "cell_type": "code",
   "execution_count": 38,
   "metadata": {
    "collapsed": true
   },
   "outputs": [],
   "source": [
    "otu_query = session.query(Samples_otu.lowest_taxonomic_unit_found).all()"
   ]
  },
  {
   "cell_type": "code",
   "execution_count": 36,
   "metadata": {
    "collapsed": true
   },
   "outputs": [],
   "source": [
    "otu_list = []\n",
    "for each in otu_query:\n",
    "    otu_list.append(each[0])\n",
    "    \n",
    "#print(otu_list)"
   ]
  },
  {
   "cell_type": "markdown",
   "metadata": {},
   "source": [
    "### @app.route('/metadata/sample')\n"
   ]
  },
  {
   "cell_type": "code",
   "execution_count": 27,
   "metadata": {},
   "outputs": [
    {
     "data": {
      "text/plain": [
       "['SAMPLEID',\n",
       " 'EVENT',\n",
       " 'ETHNICITY',\n",
       " 'GENDER',\n",
       " 'AGE',\n",
       " 'WFREQ',\n",
       " 'BBTYPE',\n",
       " 'LOCATION',\n",
       " 'COUNTRY012',\n",
       " 'ZIP012',\n",
       " 'COUNTRY1319',\n",
       " 'ZIP1319',\n",
       " 'DOG',\n",
       " 'CAT',\n",
       " 'IMPSURFACE013',\n",
       " 'NPP013',\n",
       " 'MMAXTEMP013',\n",
       " 'PFC013',\n",
       " 'IMPSURFACE1319',\n",
       " 'NPP1319',\n",
       " 'MMAXTEMP1319',\n",
       " 'PFC1319']"
      ]
     },
     "execution_count": 27,
     "metadata": {},
     "output_type": "execute_result"
    }
   ],
   "source": [
    "Samples_meta = Base.classes.samples_metadata\n",
    "Samples_meta.__table__.columns.keys()"
   ]
  },
  {
   "cell_type": "code",
   "execution_count": 16,
   "metadata": {
    "collapsed": true
   },
   "outputs": [],
   "source": [
    "results = session.query(Samples_meta.AGE, Samples_meta.BBTYPE, Samples_meta.ETHNICITY , \n",
    "                        Samples_meta.GENDER , Samples_meta.LOCATION, Samples_meta.SAMPLEID).all()"
   ]
  },
  {
   "cell_type": "code",
   "execution_count": 17,
   "metadata": {
    "collapsed": true
   },
   "outputs": [],
   "source": [
    "# for result in results:\n",
    "#     print(result.AGE)"
   ]
  },
  {
   "cell_type": "code",
   "execution_count": 18,
   "metadata": {
    "collapsed": true
   },
   "outputs": [],
   "source": [
    "#results_df = pd.DataFrame(results)\n",
    "#results_df.head()"
   ]
  },
  {
   "cell_type": "code",
   "execution_count": 19,
   "metadata": {
    "collapsed": true
   },
   "outputs": [],
   "source": [
    "result_list = []\n",
    "for result in results:\n",
    "    result_dict = {}\n",
    "    result_dict[\"age\"] = result[0]\n",
    "    result_dict[\"bbtype\"] = result[1]\n",
    "    result_dict[\"ethnicity\"] = result[2]\n",
    "    result_dict[\"gender\"] = result[3]\n",
    "    result_dict[\"location\"] = result[4]\n",
    "    result_dict[\"sampleid\"] = result[5]\n",
    "    result_list.append(result_dict)\n",
    "#print(result_list)"
   ]
  },
  {
   "cell_type": "code",
   "execution_count": 30,
   "metadata": {},
   "outputs": [
    {
     "data": {
      "text/plain": [
       "941"
      ]
     },
     "execution_count": 30,
     "metadata": {},
     "output_type": "execute_result"
    }
   ],
   "source": [
    "sample = \"bb_941\"\n",
    "\n",
    "sample_split = sample.split(\"_\")\n",
    "int(sample_split[1])\n",
    "sample_num = int(sample_split[1])\n",
    "sample_num"
   ]
  },
  {
   "cell_type": "code",
   "execution_count": 21,
   "metadata": {
    "collapsed": true
   },
   "outputs": [],
   "source": [
    "results = session.query(Samples_meta.AGE, Samples_meta.BBTYPE, Samples_meta.ETHNICITY , \n",
    "                        Samples_meta.GENDER , Samples_meta.LOCATION, Samples_meta.SAMPLEID).filter(\n",
    "    Samples_meta.SAMPLEID == sample_num).all()"
   ]
  },
  {
   "cell_type": "code",
   "execution_count": 22,
   "metadata": {},
   "outputs": [
    {
     "name": "stdout",
     "output_type": "stream",
     "text": [
      "[(44, 'I', 'European', 'M', 'NewHaven/CT', 944)]\n"
     ]
    }
   ],
   "source": [
    "print(results)"
   ]
  },
  {
   "cell_type": "code",
   "execution_count": 23,
   "metadata": {
    "collapsed": true
   },
   "outputs": [],
   "source": [
    "result_list = []\n",
    "for result in results:\n",
    "    result_dict = {}\n",
    "    result_dict[\"age\"] = result[0]\n",
    "    result_dict[\"bbtype\"] = result[1]\n",
    "    result_dict[\"ethnicity\"] = result[2]\n",
    "    result_dict[\"gender\"] = result[3]\n",
    "    result_dict[\"location\"] = result[4]\n",
    "    result_dict[\"sampleid\"] = result[5]\n",
    "    result_list.append(result_dict)"
   ]
  },
  {
   "cell_type": "code",
   "execution_count": 24,
   "metadata": {},
   "outputs": [
    {
     "data": {
      "text/plain": [
       "[{'age': 44,\n",
       "  'bbtype': 'I',\n",
       "  'ethnicity': 'European',\n",
       "  'gender': 'M',\n",
       "  'location': 'NewHaven/CT',\n",
       "  'sampleid': 944}]"
      ]
     },
     "execution_count": 24,
     "metadata": {},
     "output_type": "execute_result"
    }
   ],
   "source": [
    "result_list"
   ]
  },
  {
   "cell_type": "markdown",
   "metadata": {},
   "source": [
    "### @app.route(wfreq)"
   ]
  },
  {
   "cell_type": "code",
   "execution_count": 31,
   "metadata": {
    "collapsed": true
   },
   "outputs": [],
   "source": [
    "results = (session.query(Samples_meta.WFREQ, Samples_meta.SAMPLEID).filter(\n",
    "                            Samples_meta.SAMPLEID == sample_num).all())"
   ]
  },
  {
   "cell_type": "code",
   "execution_count": 32,
   "metadata": {},
   "outputs": [
    {
     "name": "stdout",
     "output_type": "stream",
     "text": [
      "[(1, 941)]\n"
     ]
    }
   ],
   "source": [
    "print(results)"
   ]
  },
  {
   "cell_type": "code",
   "execution_count": 33,
   "metadata": {
    "collapsed": true
   },
   "outputs": [],
   "source": [
    "results = (session.query(Samples_meta.WFREQ, Samples_meta.SAMPLEID).all())"
   ]
  },
  {
   "cell_type": "code",
   "execution_count": 117,
   "metadata": {
    "collapsed": true
   },
   "outputs": [],
   "source": [
    "#results"
   ]
  },
  {
   "cell_type": "markdown",
   "metadata": {},
   "source": [
    "### @app.route('/samples/\"sample\"')"
   ]
  },
  {
   "cell_type": "code",
   "execution_count": 3,
   "metadata": {
    "collapsed": true
   },
   "outputs": [],
   "source": [
    "_csvpath = os.path.join('DataSets', 'belly_button_biodiversity_samples.csv')\n",
    "_data = pd.read_csv(_csvpath)"
   ]
  },
  {
   "cell_type": "code",
   "execution_count": 4,
   "metadata": {},
   "outputs": [
    {
     "data": {
      "text/html": [
       "<div>\n",
       "<style>\n",
       "    .dataframe thead tr:only-child th {\n",
       "        text-align: right;\n",
       "    }\n",
       "\n",
       "    .dataframe thead th {\n",
       "        text-align: left;\n",
       "    }\n",
       "\n",
       "    .dataframe tbody tr th {\n",
       "        vertical-align: top;\n",
       "    }\n",
       "</style>\n",
       "<table border=\"1\" class=\"dataframe\">\n",
       "  <thead>\n",
       "    <tr style=\"text-align: right;\">\n",
       "      <th></th>\n",
       "      <th>otu_id</th>\n",
       "      <th>BB_940</th>\n",
       "      <th>BB_941</th>\n",
       "      <th>BB_943</th>\n",
       "      <th>BB_944</th>\n",
       "      <th>BB_945</th>\n",
       "      <th>BB_946</th>\n",
       "      <th>BB_947</th>\n",
       "      <th>BB_948</th>\n",
       "      <th>BB_949</th>\n",
       "      <th>...</th>\n",
       "      <th>BB_1562</th>\n",
       "      <th>BB_1563</th>\n",
       "      <th>BB_1564</th>\n",
       "      <th>BB_1572</th>\n",
       "      <th>BB_1573</th>\n",
       "      <th>BB_1574</th>\n",
       "      <th>BB_1576</th>\n",
       "      <th>BB_1577</th>\n",
       "      <th>BB_1581</th>\n",
       "      <th>BB_1601</th>\n",
       "    </tr>\n",
       "  </thead>\n",
       "  <tbody>\n",
       "    <tr>\n",
       "      <th>0</th>\n",
       "      <td>1</td>\n",
       "      <td>0.0</td>\n",
       "      <td>0</td>\n",
       "      <td>0</td>\n",
       "      <td>0</td>\n",
       "      <td>0</td>\n",
       "      <td>0</td>\n",
       "      <td>0</td>\n",
       "      <td>0.0</td>\n",
       "      <td>0</td>\n",
       "      <td>...</td>\n",
       "      <td>0</td>\n",
       "      <td>0</td>\n",
       "      <td>0</td>\n",
       "      <td>0</td>\n",
       "      <td>0</td>\n",
       "      <td>0</td>\n",
       "      <td>0</td>\n",
       "      <td>0</td>\n",
       "      <td>0</td>\n",
       "      <td>0</td>\n",
       "    </tr>\n",
       "    <tr>\n",
       "      <th>1</th>\n",
       "      <td>2</td>\n",
       "      <td>0.0</td>\n",
       "      <td>0</td>\n",
       "      <td>0</td>\n",
       "      <td>0</td>\n",
       "      <td>0</td>\n",
       "      <td>0</td>\n",
       "      <td>0</td>\n",
       "      <td>0.0</td>\n",
       "      <td>0</td>\n",
       "      <td>...</td>\n",
       "      <td>0</td>\n",
       "      <td>0</td>\n",
       "      <td>0</td>\n",
       "      <td>0</td>\n",
       "      <td>0</td>\n",
       "      <td>0</td>\n",
       "      <td>0</td>\n",
       "      <td>0</td>\n",
       "      <td>0</td>\n",
       "      <td>0</td>\n",
       "    </tr>\n",
       "    <tr>\n",
       "      <th>2</th>\n",
       "      <td>3</td>\n",
       "      <td>0.0</td>\n",
       "      <td>0</td>\n",
       "      <td>0</td>\n",
       "      <td>0</td>\n",
       "      <td>0</td>\n",
       "      <td>0</td>\n",
       "      <td>0</td>\n",
       "      <td>0.0</td>\n",
       "      <td>0</td>\n",
       "      <td>...</td>\n",
       "      <td>0</td>\n",
       "      <td>0</td>\n",
       "      <td>0</td>\n",
       "      <td>0</td>\n",
       "      <td>0</td>\n",
       "      <td>0</td>\n",
       "      <td>0</td>\n",
       "      <td>0</td>\n",
       "      <td>0</td>\n",
       "      <td>0</td>\n",
       "    </tr>\n",
       "    <tr>\n",
       "      <th>3</th>\n",
       "      <td>4</td>\n",
       "      <td>0.0</td>\n",
       "      <td>0</td>\n",
       "      <td>0</td>\n",
       "      <td>0</td>\n",
       "      <td>0</td>\n",
       "      <td>0</td>\n",
       "      <td>0</td>\n",
       "      <td>0.0</td>\n",
       "      <td>0</td>\n",
       "      <td>...</td>\n",
       "      <td>0</td>\n",
       "      <td>0</td>\n",
       "      <td>0</td>\n",
       "      <td>0</td>\n",
       "      <td>0</td>\n",
       "      <td>0</td>\n",
       "      <td>0</td>\n",
       "      <td>0</td>\n",
       "      <td>0</td>\n",
       "      <td>0</td>\n",
       "    </tr>\n",
       "    <tr>\n",
       "      <th>4</th>\n",
       "      <td>5</td>\n",
       "      <td>0.0</td>\n",
       "      <td>0</td>\n",
       "      <td>0</td>\n",
       "      <td>0</td>\n",
       "      <td>0</td>\n",
       "      <td>0</td>\n",
       "      <td>0</td>\n",
       "      <td>0.0</td>\n",
       "      <td>0</td>\n",
       "      <td>...</td>\n",
       "      <td>0</td>\n",
       "      <td>0</td>\n",
       "      <td>0</td>\n",
       "      <td>0</td>\n",
       "      <td>0</td>\n",
       "      <td>0</td>\n",
       "      <td>0</td>\n",
       "      <td>0</td>\n",
       "      <td>0</td>\n",
       "      <td>0</td>\n",
       "    </tr>\n",
       "  </tbody>\n",
       "</table>\n",
       "<p>5 rows × 154 columns</p>\n",
       "</div>"
      ],
      "text/plain": [
       "   otu_id  BB_940  BB_941  BB_943  BB_944  BB_945  BB_946  BB_947  BB_948  \\\n",
       "0       1     0.0       0       0       0       0       0       0     0.0   \n",
       "1       2     0.0       0       0       0       0       0       0     0.0   \n",
       "2       3     0.0       0       0       0       0       0       0     0.0   \n",
       "3       4     0.0       0       0       0       0       0       0     0.0   \n",
       "4       5     0.0       0       0       0       0       0       0     0.0   \n",
       "\n",
       "   BB_949   ...     BB_1562  BB_1563  BB_1564  BB_1572  BB_1573  BB_1574  \\\n",
       "0       0   ...           0        0        0        0        0        0   \n",
       "1       0   ...           0        0        0        0        0        0   \n",
       "2       0   ...           0        0        0        0        0        0   \n",
       "3       0   ...           0        0        0        0        0        0   \n",
       "4       0   ...           0        0        0        0        0        0   \n",
       "\n",
       "   BB_1576  BB_1577  BB_1581  BB_1601  \n",
       "0        0        0        0        0  \n",
       "1        0        0        0        0  \n",
       "2        0        0        0        0  \n",
       "3        0        0        0        0  \n",
       "4        0        0        0        0  \n",
       "\n",
       "[5 rows x 154 columns]"
      ]
     },
     "execution_count": 4,
     "metadata": {},
     "output_type": "execute_result"
    }
   ],
   "source": [
    "_data.head()"
   ]
  },
  {
   "cell_type": "code",
   "execution_count": 5,
   "metadata": {
    "collapsed": true
   },
   "outputs": [],
   "source": [
    "sample = \"BB_941\"    "
   ]
  },
  {
   "cell_type": "code",
   "execution_count": 6,
   "metadata": {},
   "outputs": [
    {
     "data": {
      "text/html": [
       "<div>\n",
       "<style>\n",
       "    .dataframe thead tr:only-child th {\n",
       "        text-align: right;\n",
       "    }\n",
       "\n",
       "    .dataframe thead th {\n",
       "        text-align: left;\n",
       "    }\n",
       "\n",
       "    .dataframe tbody tr th {\n",
       "        vertical-align: top;\n",
       "    }\n",
       "</style>\n",
       "<table border=\"1\" class=\"dataframe\">\n",
       "  <thead>\n",
       "    <tr style=\"text-align: right;\">\n",
       "      <th></th>\n",
       "      <th>otu_id</th>\n",
       "      <th>BB_941</th>\n",
       "    </tr>\n",
       "  </thead>\n",
       "  <tbody>\n",
       "    <tr>\n",
       "      <th>0</th>\n",
       "      <td>1</td>\n",
       "      <td>0</td>\n",
       "    </tr>\n",
       "    <tr>\n",
       "      <th>1</th>\n",
       "      <td>2</td>\n",
       "      <td>0</td>\n",
       "    </tr>\n",
       "    <tr>\n",
       "      <th>2</th>\n",
       "      <td>3</td>\n",
       "      <td>0</td>\n",
       "    </tr>\n",
       "    <tr>\n",
       "      <th>3</th>\n",
       "      <td>4</td>\n",
       "      <td>0</td>\n",
       "    </tr>\n",
       "    <tr>\n",
       "      <th>4</th>\n",
       "      <td>5</td>\n",
       "      <td>0</td>\n",
       "    </tr>\n",
       "  </tbody>\n",
       "</table>\n",
       "</div>"
      ],
      "text/plain": [
       "   otu_id  BB_941\n",
       "0       1       0\n",
       "1       2       0\n",
       "2       3       0\n",
       "3       4       0\n",
       "4       5       0"
      ]
     },
     "execution_count": 6,
     "metadata": {},
     "output_type": "execute_result"
    }
   ],
   "source": [
    "data_df = _data[['otu_id', sample]]\n",
    "data_df.head()"
   ]
  },
  {
   "cell_type": "code",
   "execution_count": null,
   "metadata": {
    "collapsed": true
   },
   "outputs": [],
   "source": []
  },
  {
   "cell_type": "code",
   "execution_count": 7,
   "metadata": {
    "collapsed": true
   },
   "outputs": [],
   "source": [
    "data_df = data_df.loc[data_df[sample] > 0]"
   ]
  },
  {
   "cell_type": "code",
   "execution_count": 8,
   "metadata": {
    "collapsed": true
   },
   "outputs": [],
   "source": [
    "data_df.reset_index(inplace = True)"
   ]
  },
  {
   "cell_type": "code",
   "execution_count": 9,
   "metadata": {
    "collapsed": true
   },
   "outputs": [],
   "source": [
    "#data_df_dict = data_df.to_dict(orient='records')"
   ]
  },
  {
   "cell_type": "code",
   "execution_count": 10,
   "metadata": {
    "collapsed": true
   },
   "outputs": [],
   "source": [
    "data_df = data_df.sort_values(sample, ascending=False)"
   ]
  },
  {
   "cell_type": "code",
   "execution_count": 11,
   "metadata": {},
   "outputs": [
    {
     "data": {
      "text/html": [
       "<div>\n",
       "<style>\n",
       "    .dataframe thead tr:only-child th {\n",
       "        text-align: right;\n",
       "    }\n",
       "\n",
       "    .dataframe thead th {\n",
       "        text-align: left;\n",
       "    }\n",
       "\n",
       "    .dataframe tbody tr th {\n",
       "        vertical-align: top;\n",
       "    }\n",
       "</style>\n",
       "<table border=\"1\" class=\"dataframe\">\n",
       "  <thead>\n",
       "    <tr style=\"text-align: right;\">\n",
       "      <th></th>\n",
       "      <th>index</th>\n",
       "      <th>otu_id</th>\n",
       "      <th>BB_941</th>\n",
       "    </tr>\n",
       "  </thead>\n",
       "  <tbody>\n",
       "    <tr>\n",
       "      <th>76</th>\n",
       "      <td>2721</td>\n",
       "      <td>2722</td>\n",
       "      <td>194</td>\n",
       "    </tr>\n",
       "    <tr>\n",
       "      <th>26</th>\n",
       "      <td>943</td>\n",
       "      <td>944</td>\n",
       "      <td>178</td>\n",
       "    </tr>\n",
       "    <tr>\n",
       "      <th>58</th>\n",
       "      <td>2418</td>\n",
       "      <td>2419</td>\n",
       "      <td>162</td>\n",
       "    </tr>\n",
       "    <tr>\n",
       "      <th>62</th>\n",
       "      <td>2538</td>\n",
       "      <td>2539</td>\n",
       "      <td>92</td>\n",
       "    </tr>\n",
       "    <tr>\n",
       "      <th>91</th>\n",
       "      <td>3449</td>\n",
       "      <td>3450</td>\n",
       "      <td>84</td>\n",
       "    </tr>\n",
       "  </tbody>\n",
       "</table>\n",
       "</div>"
      ],
      "text/plain": [
       "    index  otu_id  BB_941\n",
       "76   2721    2722     194\n",
       "26    943     944     178\n",
       "58   2418    2419     162\n",
       "62   2538    2539      92\n",
       "91   3449    3450      84"
      ]
     },
     "execution_count": 11,
     "metadata": {},
     "output_type": "execute_result"
    }
   ],
   "source": [
    "data_df.head()"
   ]
  },
  {
   "cell_type": "code",
   "execution_count": 12,
   "metadata": {
    "collapsed": true
   },
   "outputs": [],
   "source": [
    "data_df_list = data_df['otu_id'].tolist()"
   ]
  },
  {
   "cell_type": "code",
   "execution_count": 13,
   "metadata": {
    "collapsed": true
   },
   "outputs": [],
   "source": [
    "data_df_dict = {}\n",
    "data_df_dict[\"otu_ids\"] = data_df_list"
   ]
  },
  {
   "cell_type": "code",
   "execution_count": 14,
   "metadata": {
    "collapsed": true
   },
   "outputs": [],
   "source": [
    "data_df_dict[\"sample_values\"] = data_df[sample].tolist()"
   ]
  },
  {
   "cell_type": "code",
   "execution_count": 15,
   "metadata": {},
   "outputs": [
    {
     "data": {
      "text/plain": [
       "{'otu_ids': [2722,\n",
       "  944,\n",
       "  2419,\n",
       "  2539,\n",
       "  3450,\n",
       "  1795,\n",
       "  2389,\n",
       "  1314,\n",
       "  922,\n",
       "  1167,\n",
       "  2859,\n",
       "  963,\n",
       "  2964,\n",
       "  2308,\n",
       "  2651,\n",
       "  482,\n",
       "  874,\n",
       "  2908,\n",
       "  1870,\n",
       "  2264,\n",
       "  41,\n",
       "  728,\n",
       "  2782,\n",
       "  352,\n",
       "  1959,\n",
       "  1188,\n",
       "  1926,\n",
       "  2461,\n",
       "  2688,\n",
       "  2704,\n",
       "  189,\n",
       "  2890,\n",
       "  1929,\n",
       "  3312,\n",
       "  2500,\n",
       "  1977,\n",
       "  1310,\n",
       "  296,\n",
       "  854,\n",
       "  939,\n",
       "  710,\n",
       "  1200,\n",
       "  555,\n",
       "  261,\n",
       "  2676,\n",
       "  2850,\n",
       "  2687,\n",
       "  2672,\n",
       "  2666,\n",
       "  641,\n",
       "  562,\n",
       "  2764,\n",
       "  2682,\n",
       "  308,\n",
       "  314,\n",
       "  730,\n",
       "  307,\n",
       "  2927,\n",
       "  301,\n",
       "  3036,\n",
       "  3120,\n",
       "  3134,\n",
       "  3389,\n",
       "  3446,\n",
       "  3458,\n",
       "  2660,\n",
       "  2632,\n",
       "  2650,\n",
       "  2275,\n",
       "  1672,\n",
       "  1760,\n",
       "  1213,\n",
       "  1824,\n",
       "  1202,\n",
       "  1199,\n",
       "  1942,\n",
       "  1186,\n",
       "  2077,\n",
       "  2091,\n",
       "  930,\n",
       "  920,\n",
       "  1600,\n",
       "  2318,\n",
       "  2340,\n",
       "  919,\n",
       "  2399,\n",
       "  2404,\n",
       "  2438,\n",
       "  830,\n",
       "  820,\n",
       "  801,\n",
       "  2551,\n",
       "  2581,\n",
       "  3461],\n",
       " 'sample_values': [194,\n",
       "  178,\n",
       "  162,\n",
       "  92,\n",
       "  84,\n",
       "  40,\n",
       "  37,\n",
       "  28,\n",
       "  27,\n",
       "  24,\n",
       "  21,\n",
       "  21,\n",
       "  13,\n",
       "  10,\n",
       "  10,\n",
       "  8,\n",
       "  8,\n",
       "  5,\n",
       "  5,\n",
       "  4,\n",
       "  4,\n",
       "  3,\n",
       "  3,\n",
       "  3,\n",
       "  3,\n",
       "  3,\n",
       "  3,\n",
       "  2,\n",
       "  2,\n",
       "  2,\n",
       "  2,\n",
       "  2,\n",
       "  2,\n",
       "  2,\n",
       "  2,\n",
       "  2,\n",
       "  2,\n",
       "  2,\n",
       "  2,\n",
       "  2,\n",
       "  2,\n",
       "  2,\n",
       "  2,\n",
       "  2,\n",
       "  1,\n",
       "  1,\n",
       "  1,\n",
       "  1,\n",
       "  1,\n",
       "  1,\n",
       "  1,\n",
       "  1,\n",
       "  1,\n",
       "  1,\n",
       "  1,\n",
       "  1,\n",
       "  1,\n",
       "  1,\n",
       "  1,\n",
       "  1,\n",
       "  1,\n",
       "  1,\n",
       "  1,\n",
       "  1,\n",
       "  1,\n",
       "  1,\n",
       "  1,\n",
       "  1,\n",
       "  1,\n",
       "  1,\n",
       "  1,\n",
       "  1,\n",
       "  1,\n",
       "  1,\n",
       "  1,\n",
       "  1,\n",
       "  1,\n",
       "  1,\n",
       "  1,\n",
       "  1,\n",
       "  1,\n",
       "  1,\n",
       "  1,\n",
       "  1,\n",
       "  1,\n",
       "  1,\n",
       "  1,\n",
       "  1,\n",
       "  1,\n",
       "  1,\n",
       "  1,\n",
       "  1,\n",
       "  1,\n",
       "  1]}"
      ]
     },
     "execution_count": 15,
     "metadata": {},
     "output_type": "execute_result"
    }
   ],
   "source": [
    "data_df_dict"
   ]
  },
  {
   "cell_type": "code",
   "execution_count": null,
   "metadata": {
    "collapsed": true
   },
   "outputs": [],
   "source": []
  },
  {
   "cell_type": "code",
   "execution_count": null,
   "metadata": {
    "collapsed": true
   },
   "outputs": [],
   "source": []
  },
  {
   "cell_type": "code",
   "execution_count": null,
   "metadata": {
    "collapsed": true
   },
   "outputs": [],
   "source": []
  }
 ],
 "metadata": {
  "kernelspec": {
   "display_name": "Python [conda env:PythonData]",
   "language": "python",
   "name": "conda-env-PythonData-py"
  },
  "language_info": {
   "codemirror_mode": {
    "name": "ipython",
    "version": 3
   },
   "file_extension": ".py",
   "mimetype": "text/x-python",
   "name": "python",
   "nbconvert_exporter": "python",
   "pygments_lexer": "ipython3",
   "version": "3.6.1"
  }
 },
 "nbformat": 4,
 "nbformat_minor": 2
}
